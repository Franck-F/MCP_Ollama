{
 "cells": [
  {
   "cell_type": "markdown",
   "metadata": {},
   "source": [
    "# Création d'un client MCP local avec LlamaIndex\n",
    "\n",
    "Ce notebook Jupyter vous guide dans la création d'un **client MCP (Model Context Protocol) local** capable de communiquer avec une base de données via les outils exposés par un serveur MCP, le tout sur votre machine. "
   ]
  },
  {
   "cell_type": "code",
   "execution_count": 15,
   "metadata": {},
   "outputs": [],
   "source": [
    "import nest_asyncio\n",
    "nest_asyncio.apply()"
   ]
  },
  {
   "cell_type": "markdown",
   "metadata": {},
   "source": [
    "## 2  Configurer un LLM local"
   ]
  },
  {
   "cell_type": "code",
   "execution_count": 16,
   "metadata": {},
   "outputs": [],
   "source": [
    "from llama_index.llms.ollama import Ollama\n",
    "from llama_index.core import Settings\n",
    "\n",
    "llm = Ollama(model=\"llama3.2\", request_timeout=120.0)\n",
    "Settings.llm = llm"
   ]
  },
  {
   "cell_type": "markdown",
   "metadata": {},
   "source": [
    "## 3  Initialisez le client MCP et créez l'agent\n",
    "\n",
    "Pointez le client vers le **point de terminaison SSE** de votre serveur MCP local (par défaut, voir ci-dessous) et répertoriez les outils disponibles."
   ]
  },
  {
   "cell_type": "code",
   "execution_count": 17,
   "metadata": {},
   "outputs": [],
   "source": [
    "from llama_index.tools.mcp import BasicMCPClient, McpToolSpec\n",
    "\n",
    "mcp_client = BasicMCPClient(\"http://127.0.0.1:8000/sse\")\n",
    "mcp_tools = McpToolSpec(client=mcp_client) # Vous pouvez également passer une liste des outils autorisés."
   ]
  },
  {
   "cell_type": "code",
   "execution_count": 18,
   "metadata": {},
   "outputs": [
    {
     "name": "stdout",
     "output_type": "stream",
     "text": [
      "add_data Add new data to the people table using a SQL INSERT query.\n",
      "\n",
      "    Args:\n",
      "        query (str): SQL INSERT query following this format:\n",
      "            INSERT INTO people (name, age, profession)\n",
      "            VALUES ('John Doe', 30, 'Engineer')\n",
      "        \n",
      "    Schema:\n",
      "        - name: Text field (required)\n",
      "        - age: Integer field (required)\n",
      "        - profession: Text field (required)\n",
      "        Note: 'id' field is auto-generated\n",
      "    \n",
      "    Returns:\n",
      "        bool: True if data was added successfully, False otherwise\n",
      "    \n",
      "    Example:\n",
      "        >>> query = '''\n",
      "        ... INSERT INTO people (name, age, profession)\n",
      "        ... VALUES ('Alice Smith', 25, 'Developer')\n",
      "        ... '''\n",
      "        >>> add_data(query)\n",
      "        True\n",
      "    \n",
      "read_data Read data from the people table using a SQL SELECT query.\n",
      "\n",
      "    Args:\n",
      "        query (str, optional): SQL SELECT query. Defaults to \"SELECT * FROM people\".\n",
      "            Examples:\n",
      "            - \"SELECT * FROM people\"\n",
      "            - \"SELECT name, age FROM people WHERE age > 25\"\n",
      "            - \"SELECT * FROM people ORDER BY age DESC\"\n",
      "    \n",
      "    Returns:\n",
      "        list: List of tuples containing the query results.\n",
      "              For default query, tuple format is (id, name, age, profession)\n",
      "    \n",
      "    Example:\n",
      "        >>> # Read all records\n",
      "        >>> read_data()\n",
      "        [(1, 'John Doe', 30, 'Engineer'), (2, 'Alice Smith', 25, 'Developer')]\n",
      "        \n",
      "        >>> # Read with custom query\n",
      "        >>> read_data(\"SELECT name, profession FROM people WHERE age < 30\")\n",
      "        [('Alice Smith', 'Developer')]\n",
      "    \n"
     ]
    }
   ],
   "source": [
    "tools = await mcp_tools.to_tool_list_async()\n",
    "for tool in tools:\n",
    "    print(tool.metadata.name, tool.metadata.description)"
   ]
  },
  {
   "cell_type": "markdown",
   "metadata": {},
   "source": [
    "## 3  Définir l'invite système\n",
    "Cette invite guide le LLM lorsqu'il doit décider comment et quand appeler des outils."
   ]
  },
  {
   "cell_type": "code",
   "execution_count": 19,
   "metadata": {},
   "outputs": [],
   "source": [
    "SYSTEM_PROMPT = \"\"\"\\\n",
    "Tu es un assistant IA pour Tool Calling.\n",
    "\n",
    "Avant d'aider un utilisateur, Tu dois utiliser des outils pour interagir avec notre base de données.\n",
    "\"\"\""
   ]
  },
  {
   "cell_type": "markdown",
   "metadata": {},
   "source": [
    "## 4  Fonction d'aide : `get_agent()`\n",
    "Crée une `FunctionAgent` connecté à la liste d'outils MCP et au LLM de votre choix."
   ]
  },
  {
   "cell_type": "code",
   "execution_count": 20,
   "metadata": {},
   "outputs": [],
   "source": [
    "from llama_index.tools.mcp import McpToolSpec\n",
    "from llama_index.core.agent.workflow import FunctionAgent\n",
    "\n",
    "async def get_agent(tools: McpToolSpec):\n",
    "    tools = await tools.to_tool_list_async()\n",
    "    agent = FunctionAgent(\n",
    "        name=\"Agent\",\n",
    "        description=\"Un agent capable de fonctionner avec notre logiciel de base de données.\",\n",
    "        tools=tools,\n",
    "        llm=Ollama(model=\"llama3.2\"),\n",
    "        system_prompt=SYSTEM_PROMPT,\n",
    "    )\n",
    "    return agent"
   ]
  },
  {
   "cell_type": "markdown",
   "metadata": {},
   "source": [
    "## 5  Fonction d'aide : `handle_user_message()`\n",
    "Transmet les appels d'outils intermédiaires (pour plus de transparence) et renvoie la réponse finale."
   ]
  },
  {
   "cell_type": "code",
   "execution_count": 21,
   "metadata": {},
   "outputs": [],
   "source": [
    "from llama_index.core.agent.workflow import (\n",
    "    FunctionAgent, \n",
    "    ToolCallResult, \n",
    "    ToolCall)\n",
    "\n",
    "from llama_index.core.workflow import Context\n",
    "\n",
    "async def handle_user_message(\n",
    "    message_content: str,\n",
    "    agent: FunctionAgent,\n",
    "    agent_context: Context,\n",
    "    verbose: bool = False,\n",
    "):\n",
    "    handler = agent.run(message_content, ctx=agent_context)\n",
    "    async for event in handler.stream_events():\n",
    "        if verbose and type(event) == ToolCall:\n",
    "            print(f\"Calling tool {event.tool_name} with kwargs {event.tool_kwargs}\")\n",
    "        elif verbose and type(event) == ToolCallResult:\n",
    "            print(f\"Tool {event.tool_name} returned {event.tool_output}\")\n",
    "\n",
    "    response = await handler\n",
    "    return str(response)"
   ]
  },
  {
   "cell_type": "markdown",
   "metadata": {},
   "source": [
    "## 6  Initialisez le client MCP et créez l'agent\n",
    "Dirigez le client vers le **point de terminaison SSE** de votre serveur MCP local (valeur par défaut indiquée ci-dessous), créez l'agent et configurez le contexte de l'agent."
   ]
  },
  {
   "cell_type": "code",
   "execution_count": 22,
   "metadata": {},
   "outputs": [],
   "source": [
    "from llama_index.tools.mcp import BasicMCPClient, McpToolSpec\n",
    "\n",
    "\n",
    "mcp_client = BasicMCPClient(\"http://127.0.0.1:8000/sse\")\n",
    "mcp_tool = McpToolSpec(client=mcp_client)\n",
    "\n",
    "# get the agent\n",
    "agent = await get_agent(mcp_tool)\n",
    "\n",
    "# create the agent context\n",
    "agent_context = Context(agent)"
   ]
  },
  {
   "cell_type": "code",
   "execution_count": null,
   "metadata": {},
   "outputs": [],
   "source": [
    "# Run the agent!\n",
    "while True:\n",
    "    user_input = input(\"Entrez votre message: \")\n",
    "    if user_input == \"sortir\":\n",
    "        break\n",
    "    print(\"User: \", user_input)\n",
    "    response = await handle_user_message(user_input, agent, agent_context, verbose=True)\n",
    "    print(\"Agent: \", response)"
   ]
  },
  {
   "cell_type": "code",
   "execution_count": null,
   "metadata": {},
   "outputs": [],
   "source": []
  }
 ],
 "metadata": {
  "kernelspec": {
   "display_name": ".venv",
   "language": "python",
   "name": "python3"
  },
  "language_info": {
   "codemirror_mode": {
    "name": "ipython",
    "version": 3
   },
   "file_extension": ".py",
   "mimetype": "text/x-python",
   "name": "python",
   "nbconvert_exporter": "python",
   "pygments_lexer": "ipython3",
   "version": "3.12.9"
  }
 },
 "nbformat": 4,
 "nbformat_minor": 2
}
